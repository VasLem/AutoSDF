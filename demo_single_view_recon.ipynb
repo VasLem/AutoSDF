{
 "cells": [
  {
   "cell_type": "code",
   "execution_count": null,
   "source": [
    "import os\n",
    "%matplotlib inline\n",
    "import matplotlib\n",
    "import matplotlib.pyplot as plt\n",
    "import torch.backends.cudnn as cudnn\n",
    "import torchvision.utils as vutils\n",
    "cudnn.benchmark = True\n",
    "\n",
    "# some utility function for visualization\n",
    "import utils\n",
    "from utils.util_3d import init_mesh_renderer, sdf_to_mesh\n",
    "\n",
    "# some utility function\n",
    "from utils.qual_util import save_mesh_as_gif\n",
    "from IPython.display import Image as ipy_image\n",
    "from IPython.display import display\n",
    "\n",
    "%reload_ext autoreload\n",
    "%autoreload 2"
   ],
   "outputs": [],
   "metadata": {}
  },
  {
   "cell_type": "code",
   "execution_count": null,
   "source": [
    "from utils.demo_util import get_shape_comp_opt, get_shape_comp_model\n",
    "from utils.qual_util import load_resnet2vq_model\n",
    "\n",
    "\"\"\" setup opt\"\"\"\n",
    "gpu_id = 0\n",
    "\n",
    "opt = get_shape_comp_opt(gpu_id=gpu_id)\n",
    "\n",
    "\"\"\" setup models \"\"\"\n",
    "model = get_shape_comp_model(opt)    \n",
    "model.eval()\n",
    "\n",
    "# img marginal model\n",
    "resnet2vq = load_resnet2vq_model(opt)\n",
    "\n",
    "\"\"\" setup renderer \"\"\"\n",
    "dist, elev, azim = 1.7, 20, 20\n",
    "mesh_renderer = init_mesh_renderer(image_size=256, dist=dist, elev=elev, azim=azim, device=opt.device)"
   ],
   "outputs": [],
   "metadata": {}
  },
  {
   "cell_type": "code",
   "execution_count": null,
   "source": [
    "\"\"\" setup pix3d img dataset and image marginal model \"\"\"\n",
    "from utils.qual_util import load_resnet2vq_model, preprocess_img\n",
    "\n",
    "# load and preprocess image\n",
    "img_path = 'demo_data/chair_2598.jpg'\n",
    "img_mask_path = 'demo_data/chair_2598_mask.png'\n",
    "\n",
    "img_input = preprocess_img(img_path, img_mask_path)\n",
    "\n",
    "img_name = 'demo_data/tmp.png'\n",
    "vutils.save_image(img_input/2+.5, img_name)\n",
    "display(ipy_image(img_name))"
   ],
   "outputs": [],
   "metadata": {}
  },
  {
   "cell_type": "code",
   "execution_count": null,
   "source": [
    "\"\"\" single-view reconstruction \"\"\" \n",
    "nimgs = 3\n",
    "topk = 10\n",
    "alpha = 0.7\n",
    "\n",
    "single_view_recon = model.single_view_recon(img_input, resnet2vq, bs=nimgs, topk=topk, alpha=alpha)\n",
    "\n",
    "gen_mesh = sdf_to_mesh(single_view_recon)\n",
    "\n",
    "# save as gif\n",
    "res_dir = 'results'\n",
    "gen_gif_name = f'{res_dir}/single-view-gen.gif'\n",
    "save_mesh_as_gif(mesh_renderer, gen_mesh, nrow=3, out_name=gen_gif_name)\n",
    "\n",
    "for name in [img_name, gen_gif_name]:\n",
    "    display(ipy_image(name))"
   ],
   "outputs": [],
   "metadata": {}
  },
  {
   "cell_type": "code",
   "execution_count": null,
   "source": [],
   "outputs": [],
   "metadata": {}
  }
 ],
 "metadata": {
  "interpreter": {
   "hash": "1f1b280d0bad175b79e1457252213b00f343fb3cb82239855346bed4f09bff33"
  },
  "kernelspec": {
   "name": "python3",
   "display_name": "Python 3.8.11 64-bit ('pt1.9': conda)"
  },
  "language_info": {
   "codemirror_mode": {
    "name": "ipython",
    "version": 3
   },
   "file_extension": ".py",
   "mimetype": "text/x-python",
   "name": "python",
   "nbconvert_exporter": "python",
   "pygments_lexer": "ipython3",
   "version": "3.8.11"
  }
 },
 "nbformat": 4,
 "nbformat_minor": 4
}